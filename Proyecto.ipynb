{
 "cells": [
  {
   "cell_type": "code",
   "execution_count": null,
   "metadata": {},
   "outputs": [],
   "source": [
    "# x 1. Definir el problema\n",
    "# 2. Crear repositorio\n",
    "# 3. Cargar el DataSet desde una BD / Desde el archivo\n",
    "# 4. Análisis Exploratorio\n",
    "#    - Medidas de tendencia de central\n",
    "#    - Desviación Estándar, Asimetría y Curtosis\n",
    "#    - Rango\n",
    "# 5. Visualización: Histogramas, Dispersión, Boxplot, etc.\n",
    "# 6. Análisis de correlación\n",
    "#    - Matriz de correlación\n",
    "#    - Mapas de calor\n",
    "# 7. Entrenamiento\n",
    "#    - Separar en entrenamiento y prubea\n",
    "#    - Entrenar y validar\n",
    "# 8. Pruebas\n",
    "#    - Validación cruzada\n",
    "#    - Matriz de cofusión\n",
    "#    - Curvas ROC/AUC"
   ]
  }
 ],
 "metadata": {
  "kernelspec": {
   "display_name": "Python 3",
   "language": "python",
   "name": "python3"
  },
  "language_info": {
   "codemirror_mode": {
    "name": "ipython",
    "version": 3
   },
   "file_extension": ".py",
   "mimetype": "text/x-python",
   "name": "python",
   "nbconvert_exporter": "python",
   "pygments_lexer": "ipython3",
   "version": "3.8.5"
  }
 },
 "nbformat": 4,
 "nbformat_minor": 4
}
